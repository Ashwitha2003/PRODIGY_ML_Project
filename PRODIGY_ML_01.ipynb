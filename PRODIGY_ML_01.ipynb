{
 "cells": [
  {
   "cell_type": "markdown",
   "id": "fe86a026",
   "metadata": {},
   "source": [
    "<center><h1> House Price prediction using Linear Regression </h1> </center> \n",
    "<strong><p> Problem Statement </p></strong>\n",
    "<p>Implement a linear regression model to predict the prices of houses based on their square footage and the number of bedrooms and bathrooms.</p> \n",
    "\n",
    "<p>Dataset : - https://www.kaggle.com/c/house-prices-advanced-regression-techniques/data</p>"
   ]
  },
  {
   "cell_type": "markdown",
   "id": "e46e263f",
   "metadata": {},
   "source": [
    "# importing Libraries"
   ]
  },
  {
   "cell_type": "code",
   "execution_count": 55,
   "id": "54f59629",
   "metadata": {},
   "outputs": [],
   "source": [
    "import pandas as pd\n",
    "import numpy as np\n",
    "from sklearn.model_selection import train_test_split\n",
    "from sklearn.linear_model import LinearRegression\n",
    "from sklearn.metrics import mean_squared_error\n",
    "from sklearn.impute import SimpleImputer\n",
    "from sklearn.metrics import r2_score"
   ]
  },
  {
   "cell_type": "code",
   "execution_count": 5,
   "id": "b8ee7dad",
   "metadata": {},
   "outputs": [],
   "source": [
    "house_data = pd.read_csv(r\"C:\\Users\\ASHU\\Downloads\\Melbourne_housing_FULL.csv\")\n",
    "house_data = pd.DataFrame(house_data)"
   ]
  },
  {
   "cell_type": "code",
   "execution_count": 6,
   "id": "5851244b",
   "metadata": {},
   "outputs": [
    {
     "data": {
      "text/html": [
       "<div>\n",
       "<style scoped>\n",
       "    .dataframe tbody tr th:only-of-type {\n",
       "        vertical-align: middle;\n",
       "    }\n",
       "\n",
       "    .dataframe tbody tr th {\n",
       "        vertical-align: top;\n",
       "    }\n",
       "\n",
       "    .dataframe thead th {\n",
       "        text-align: right;\n",
       "    }\n",
       "</style>\n",
       "<table border=\"1\" class=\"dataframe\">\n",
       "  <thead>\n",
       "    <tr style=\"text-align: right;\">\n",
       "      <th></th>\n",
       "      <th>Suburb</th>\n",
       "      <th>Address</th>\n",
       "      <th>Rooms</th>\n",
       "      <th>Type</th>\n",
       "      <th>Method</th>\n",
       "      <th>SellerG</th>\n",
       "      <th>Date</th>\n",
       "      <th>Distance</th>\n",
       "      <th>Postcode</th>\n",
       "      <th>Bedroom</th>\n",
       "      <th>Bathroom</th>\n",
       "      <th>Landsize</th>\n",
       "      <th>CouncilArea</th>\n",
       "      <th>Latitude</th>\n",
       "      <th>Longtitude</th>\n",
       "      <th>Regionname</th>\n",
       "      <th>Propertycount</th>\n",
       "      <th>ParkingArea</th>\n",
       "      <th>Price</th>\n",
       "    </tr>\n",
       "  </thead>\n",
       "  <tbody>\n",
       "    <tr>\n",
       "      <th>0</th>\n",
       "      <td>Abbotsford</td>\n",
       "      <td>68 Studley St</td>\n",
       "      <td>2</td>\n",
       "      <td>h</td>\n",
       "      <td>SS</td>\n",
       "      <td>Jellis</td>\n",
       "      <td>03-09-2016</td>\n",
       "      <td>2.5</td>\n",
       "      <td>3067.0</td>\n",
       "      <td>2.0</td>\n",
       "      <td>1.0</td>\n",
       "      <td>126.0</td>\n",
       "      <td>Yarra City Council</td>\n",
       "      <td>-37.8014</td>\n",
       "      <td>144.9958</td>\n",
       "      <td>Northern Metropolitan</td>\n",
       "      <td>4019.0</td>\n",
       "      <td>Carport</td>\n",
       "      <td>NaN</td>\n",
       "    </tr>\n",
       "    <tr>\n",
       "      <th>1</th>\n",
       "      <td>Airport West</td>\n",
       "      <td>154 Halsey Rd</td>\n",
       "      <td>3</td>\n",
       "      <td>t</td>\n",
       "      <td>PI</td>\n",
       "      <td>Nelson</td>\n",
       "      <td>03-09-2016</td>\n",
       "      <td>13.5</td>\n",
       "      <td>3042.0</td>\n",
       "      <td>3.0</td>\n",
       "      <td>2.0</td>\n",
       "      <td>303.0</td>\n",
       "      <td>Moonee Valley City Council</td>\n",
       "      <td>-37.7180</td>\n",
       "      <td>144.8780</td>\n",
       "      <td>Western Metropolitan</td>\n",
       "      <td>3464.0</td>\n",
       "      <td>Detached Garage</td>\n",
       "      <td>840000.0</td>\n",
       "    </tr>\n",
       "    <tr>\n",
       "      <th>2</th>\n",
       "      <td>Albert Park</td>\n",
       "      <td>105 Kerferd Rd</td>\n",
       "      <td>2</td>\n",
       "      <td>h</td>\n",
       "      <td>S</td>\n",
       "      <td>hockingstuart</td>\n",
       "      <td>03-09-2016</td>\n",
       "      <td>3.3</td>\n",
       "      <td>3206.0</td>\n",
       "      <td>2.0</td>\n",
       "      <td>1.0</td>\n",
       "      <td>120.0</td>\n",
       "      <td>Port Phillip City Council</td>\n",
       "      <td>-37.8459</td>\n",
       "      <td>144.9555</td>\n",
       "      <td>Southern Metropolitan</td>\n",
       "      <td>3280.0</td>\n",
       "      <td>Attached Garage</td>\n",
       "      <td>1275000.0</td>\n",
       "    </tr>\n",
       "    <tr>\n",
       "      <th>3</th>\n",
       "      <td>Albert Park</td>\n",
       "      <td>85 Richardson St</td>\n",
       "      <td>2</td>\n",
       "      <td>h</td>\n",
       "      <td>S</td>\n",
       "      <td>Thomson</td>\n",
       "      <td>03-09-2016</td>\n",
       "      <td>3.3</td>\n",
       "      <td>3206.0</td>\n",
       "      <td>2.0</td>\n",
       "      <td>1.0</td>\n",
       "      <td>159.0</td>\n",
       "      <td>Port Phillip City Council</td>\n",
       "      <td>-37.8450</td>\n",
       "      <td>144.9538</td>\n",
       "      <td>Southern Metropolitan</td>\n",
       "      <td>3280.0</td>\n",
       "      <td>Indoor</td>\n",
       "      <td>1455000.0</td>\n",
       "    </tr>\n",
       "    <tr>\n",
       "      <th>4</th>\n",
       "      <td>Alphington</td>\n",
       "      <td>30 Austin St</td>\n",
       "      <td>3</td>\n",
       "      <td>h</td>\n",
       "      <td>SN</td>\n",
       "      <td>McGrath</td>\n",
       "      <td>03-09-2016</td>\n",
       "      <td>6.4</td>\n",
       "      <td>3078.0</td>\n",
       "      <td>3.0</td>\n",
       "      <td>2.0</td>\n",
       "      <td>174.0</td>\n",
       "      <td>Darebin City Council</td>\n",
       "      <td>-37.7818</td>\n",
       "      <td>145.0198</td>\n",
       "      <td>Northern Metropolitan</td>\n",
       "      <td>2211.0</td>\n",
       "      <td>Parkade</td>\n",
       "      <td>NaN</td>\n",
       "    </tr>\n",
       "  </tbody>\n",
       "</table>\n",
       "</div>"
      ],
      "text/plain": [
       "         Suburb           Address  Rooms Type Method        SellerG  \\\n",
       "0    Abbotsford     68 Studley St      2    h     SS         Jellis   \n",
       "1  Airport West     154 Halsey Rd      3    t     PI         Nelson   \n",
       "2   Albert Park    105 Kerferd Rd      2    h      S  hockingstuart   \n",
       "3   Albert Park  85 Richardson St      2    h      S        Thomson   \n",
       "4    Alphington      30 Austin St      3    h     SN        McGrath   \n",
       "\n",
       "         Date  Distance  Postcode  Bedroom  Bathroom  Landsize  \\\n",
       "0  03-09-2016       2.5    3067.0      2.0       1.0     126.0   \n",
       "1  03-09-2016      13.5    3042.0      3.0       2.0     303.0   \n",
       "2  03-09-2016       3.3    3206.0      2.0       1.0     120.0   \n",
       "3  03-09-2016       3.3    3206.0      2.0       1.0     159.0   \n",
       "4  03-09-2016       6.4    3078.0      3.0       2.0     174.0   \n",
       "\n",
       "                  CouncilArea  Latitude  Longtitude             Regionname  \\\n",
       "0          Yarra City Council  -37.8014    144.9958  Northern Metropolitan   \n",
       "1  Moonee Valley City Council  -37.7180    144.8780   Western Metropolitan   \n",
       "2   Port Phillip City Council  -37.8459    144.9555  Southern Metropolitan   \n",
       "3   Port Phillip City Council  -37.8450    144.9538  Southern Metropolitan   \n",
       "4        Darebin City Council  -37.7818    145.0198  Northern Metropolitan   \n",
       "\n",
       "   Propertycount      ParkingArea      Price  \n",
       "0         4019.0          Carport        NaN  \n",
       "1         3464.0  Detached Garage   840000.0  \n",
       "2         3280.0  Attached Garage  1275000.0  \n",
       "3         3280.0           Indoor  1455000.0  \n",
       "4         2211.0          Parkade        NaN  "
      ]
     },
     "execution_count": 6,
     "metadata": {},
     "output_type": "execute_result"
    }
   ],
   "source": [
    "house_data.head()"
   ]
  },
  {
   "cell_type": "code",
   "execution_count": 7,
   "id": "0fb6ca1a",
   "metadata": {},
   "outputs": [
    {
     "data": {
      "text/plain": [
       "(34857, 19)"
      ]
     },
     "execution_count": 7,
     "metadata": {},
     "output_type": "execute_result"
    }
   ],
   "source": [
    "house_data.shape"
   ]
  },
  {
   "cell_type": "code",
   "execution_count": 8,
   "id": "ef85e3b8",
   "metadata": {},
   "outputs": [
    {
     "name": "stdout",
     "output_type": "stream",
     "text": [
      "<class 'pandas.core.frame.DataFrame'>\n",
      "RangeIndex: 34857 entries, 0 to 34856\n",
      "Data columns (total 19 columns):\n",
      " #   Column         Non-Null Count  Dtype  \n",
      "---  ------         --------------  -----  \n",
      " 0   Suburb         34857 non-null  object \n",
      " 1   Address        34857 non-null  object \n",
      " 2   Rooms          34857 non-null  int64  \n",
      " 3   Type           34857 non-null  object \n",
      " 4   Method         34857 non-null  object \n",
      " 5   SellerG        34857 non-null  object \n",
      " 6   Date           34857 non-null  object \n",
      " 7   Distance       34856 non-null  float64\n",
      " 8   Postcode       34856 non-null  float64\n",
      " 9   Bedroom        26640 non-null  float64\n",
      " 10  Bathroom       26631 non-null  float64\n",
      " 11  Landsize       23047 non-null  float64\n",
      " 12  CouncilArea    34854 non-null  object \n",
      " 13  Latitude       26881 non-null  float64\n",
      " 14  Longtitude     26881 non-null  float64\n",
      " 15  Regionname     34857 non-null  object \n",
      " 16  Propertycount  34854 non-null  float64\n",
      " 17  ParkingArea    34857 non-null  object \n",
      " 18  Price          27247 non-null  float64\n",
      "dtypes: float64(9), int64(1), object(9)\n",
      "memory usage: 5.1+ MB\n"
     ]
    }
   ],
   "source": [
    "house_data.info()"
   ]
  },
  {
   "cell_type": "code",
   "execution_count": 9,
   "id": "a9ff494d",
   "metadata": {},
   "outputs": [
    {
     "data": {
      "text/html": [
       "<div>\n",
       "<style scoped>\n",
       "    .dataframe tbody tr th:only-of-type {\n",
       "        vertical-align: middle;\n",
       "    }\n",
       "\n",
       "    .dataframe tbody tr th {\n",
       "        vertical-align: top;\n",
       "    }\n",
       "\n",
       "    .dataframe thead th {\n",
       "        text-align: right;\n",
       "    }\n",
       "</style>\n",
       "<table border=\"1\" class=\"dataframe\">\n",
       "  <thead>\n",
       "    <tr style=\"text-align: right;\">\n",
       "      <th></th>\n",
       "      <th>Rooms</th>\n",
       "      <th>Distance</th>\n",
       "      <th>Postcode</th>\n",
       "      <th>Bedroom</th>\n",
       "      <th>Bathroom</th>\n",
       "      <th>Landsize</th>\n",
       "      <th>Latitude</th>\n",
       "      <th>Longtitude</th>\n",
       "      <th>Propertycount</th>\n",
       "      <th>Price</th>\n",
       "    </tr>\n",
       "  </thead>\n",
       "  <tbody>\n",
       "    <tr>\n",
       "      <th>count</th>\n",
       "      <td>34857.000000</td>\n",
       "      <td>34856.000000</td>\n",
       "      <td>34856.000000</td>\n",
       "      <td>26640.000000</td>\n",
       "      <td>26631.000000</td>\n",
       "      <td>23047.000000</td>\n",
       "      <td>26881.000000</td>\n",
       "      <td>26881.000000</td>\n",
       "      <td>34854.000000</td>\n",
       "      <td>2.724700e+04</td>\n",
       "    </tr>\n",
       "    <tr>\n",
       "      <th>mean</th>\n",
       "      <td>3.031012</td>\n",
       "      <td>11.184929</td>\n",
       "      <td>3116.062859</td>\n",
       "      <td>3.084647</td>\n",
       "      <td>1.624798</td>\n",
       "      <td>593.598993</td>\n",
       "      <td>-37.810634</td>\n",
       "      <td>145.001851</td>\n",
       "      <td>7572.888306</td>\n",
       "      <td>1.050173e+06</td>\n",
       "    </tr>\n",
       "    <tr>\n",
       "      <th>std</th>\n",
       "      <td>0.969933</td>\n",
       "      <td>6.788892</td>\n",
       "      <td>109.023903</td>\n",
       "      <td>0.980690</td>\n",
       "      <td>0.724212</td>\n",
       "      <td>3398.841946</td>\n",
       "      <td>0.090279</td>\n",
       "      <td>0.120169</td>\n",
       "      <td>4428.090313</td>\n",
       "      <td>6.414671e+05</td>\n",
       "    </tr>\n",
       "    <tr>\n",
       "      <th>min</th>\n",
       "      <td>1.000000</td>\n",
       "      <td>0.000000</td>\n",
       "      <td>3000.000000</td>\n",
       "      <td>0.000000</td>\n",
       "      <td>0.000000</td>\n",
       "      <td>0.000000</td>\n",
       "      <td>-38.190430</td>\n",
       "      <td>144.423790</td>\n",
       "      <td>83.000000</td>\n",
       "      <td>8.500000e+04</td>\n",
       "    </tr>\n",
       "    <tr>\n",
       "      <th>25%</th>\n",
       "      <td>2.000000</td>\n",
       "      <td>6.400000</td>\n",
       "      <td>3051.000000</td>\n",
       "      <td>2.000000</td>\n",
       "      <td>1.000000</td>\n",
       "      <td>224.000000</td>\n",
       "      <td>-37.862950</td>\n",
       "      <td>144.933500</td>\n",
       "      <td>4385.000000</td>\n",
       "      <td>6.350000e+05</td>\n",
       "    </tr>\n",
       "    <tr>\n",
       "      <th>50%</th>\n",
       "      <td>3.000000</td>\n",
       "      <td>10.300000</td>\n",
       "      <td>3103.000000</td>\n",
       "      <td>3.000000</td>\n",
       "      <td>2.000000</td>\n",
       "      <td>521.000000</td>\n",
       "      <td>-37.807600</td>\n",
       "      <td>145.007800</td>\n",
       "      <td>6763.000000</td>\n",
       "      <td>8.700000e+05</td>\n",
       "    </tr>\n",
       "    <tr>\n",
       "      <th>75%</th>\n",
       "      <td>4.000000</td>\n",
       "      <td>14.000000</td>\n",
       "      <td>3156.000000</td>\n",
       "      <td>4.000000</td>\n",
       "      <td>2.000000</td>\n",
       "      <td>670.000000</td>\n",
       "      <td>-37.754100</td>\n",
       "      <td>145.071900</td>\n",
       "      <td>10412.000000</td>\n",
       "      <td>1.295000e+06</td>\n",
       "    </tr>\n",
       "    <tr>\n",
       "      <th>max</th>\n",
       "      <td>16.000000</td>\n",
       "      <td>48.100000</td>\n",
       "      <td>3978.000000</td>\n",
       "      <td>30.000000</td>\n",
       "      <td>12.000000</td>\n",
       "      <td>433014.000000</td>\n",
       "      <td>-37.390200</td>\n",
       "      <td>145.526350</td>\n",
       "      <td>21650.000000</td>\n",
       "      <td>1.120000e+07</td>\n",
       "    </tr>\n",
       "  </tbody>\n",
       "</table>\n",
       "</div>"
      ],
      "text/plain": [
       "              Rooms      Distance      Postcode       Bedroom      Bathroom  \\\n",
       "count  34857.000000  34856.000000  34856.000000  26640.000000  26631.000000   \n",
       "mean       3.031012     11.184929   3116.062859      3.084647      1.624798   \n",
       "std        0.969933      6.788892    109.023903      0.980690      0.724212   \n",
       "min        1.000000      0.000000   3000.000000      0.000000      0.000000   \n",
       "25%        2.000000      6.400000   3051.000000      2.000000      1.000000   \n",
       "50%        3.000000     10.300000   3103.000000      3.000000      2.000000   \n",
       "75%        4.000000     14.000000   3156.000000      4.000000      2.000000   \n",
       "max       16.000000     48.100000   3978.000000     30.000000     12.000000   \n",
       "\n",
       "            Landsize      Latitude    Longtitude  Propertycount         Price  \n",
       "count   23047.000000  26881.000000  26881.000000   34854.000000  2.724700e+04  \n",
       "mean      593.598993    -37.810634    145.001851    7572.888306  1.050173e+06  \n",
       "std      3398.841946      0.090279      0.120169    4428.090313  6.414671e+05  \n",
       "min         0.000000    -38.190430    144.423790      83.000000  8.500000e+04  \n",
       "25%       224.000000    -37.862950    144.933500    4385.000000  6.350000e+05  \n",
       "50%       521.000000    -37.807600    145.007800    6763.000000  8.700000e+05  \n",
       "75%       670.000000    -37.754100    145.071900   10412.000000  1.295000e+06  \n",
       "max    433014.000000    -37.390200    145.526350   21650.000000  1.120000e+07  "
      ]
     },
     "execution_count": 9,
     "metadata": {},
     "output_type": "execute_result"
    }
   ],
   "source": [
    "house_data.describe()"
   ]
  },
  {
   "cell_type": "code",
   "execution_count": 10,
   "id": "6f5de0a0",
   "metadata": {},
   "outputs": [
    {
     "data": {
      "text/plain": [
       "Suburb               0\n",
       "Address              0\n",
       "Rooms                0\n",
       "Type                 0\n",
       "Method               0\n",
       "SellerG              0\n",
       "Date                 0\n",
       "Distance             1\n",
       "Postcode             1\n",
       "Bedroom           8217\n",
       "Bathroom          8226\n",
       "Landsize         11810\n",
       "CouncilArea          3\n",
       "Latitude          7976\n",
       "Longtitude        7976\n",
       "Regionname           0\n",
       "Propertycount        3\n",
       "ParkingArea          0\n",
       "Price             7610\n",
       "dtype: int64"
      ]
     },
     "execution_count": 10,
     "metadata": {},
     "output_type": "execute_result"
    }
   ],
   "source": [
    "house_data.isnull().sum()"
   ]
  },
  {
   "cell_type": "code",
   "execution_count": 11,
   "id": "ebf2c67d",
   "metadata": {},
   "outputs": [
    {
     "data": {
      "text/plain": [
       "Suburb            object\n",
       "Address           object\n",
       "Rooms              int64\n",
       "Type              object\n",
       "Method            object\n",
       "SellerG           object\n",
       "Date              object\n",
       "Distance         float64\n",
       "Postcode         float64\n",
       "Bedroom          float64\n",
       "Bathroom         float64\n",
       "Landsize         float64\n",
       "CouncilArea       object\n",
       "Latitude         float64\n",
       "Longtitude       float64\n",
       "Regionname        object\n",
       "Propertycount    float64\n",
       "ParkingArea       object\n",
       "Price            float64\n",
       "dtype: object"
      ]
     },
     "execution_count": 11,
     "metadata": {},
     "output_type": "execute_result"
    }
   ],
   "source": [
    "house_data.dtypes"
   ]
  },
  {
   "cell_type": "code",
   "execution_count": 12,
   "id": "2a1757fd",
   "metadata": {},
   "outputs": [],
   "source": [
    "house_data.Distance.fillna(house_data[\"Distance\"].median(),inplace = True)"
   ]
  },
  {
   "cell_type": "code",
   "execution_count": 13,
   "id": "46b8d478",
   "metadata": {},
   "outputs": [],
   "source": [
    "house_data.Postcode.fillna(house_data[\"Postcode\"].median(),inplace = True)"
   ]
  },
  {
   "cell_type": "code",
   "execution_count": 14,
   "id": "7b3e14a5",
   "metadata": {},
   "outputs": [],
   "source": [
    "house_data.CouncilArea.fillna(house_data[\"CouncilArea\"].mode()[0],inplace = True)"
   ]
  },
  {
   "cell_type": "code",
   "execution_count": 15,
   "id": "00ed1101",
   "metadata": {},
   "outputs": [],
   "source": [
    "house_data.Propertycount.fillna(house_data[\"Propertycount\"].median(),inplace = True)"
   ]
  },
  {
   "cell_type": "code",
   "execution_count": 30,
   "id": "4e977cff",
   "metadata": {},
   "outputs": [],
   "source": [
    "house_data.Landsize.fillna(house_data[\"Landsize\"].median(),inplace = True)"
   ]
  },
  {
   "cell_type": "code",
   "execution_count": 19,
   "id": "c7e11608",
   "metadata": {},
   "outputs": [],
   "source": [
    "house_data.Bedroom.fillna(house_data[\"Bedroom\"].median(),inplace = True)"
   ]
  },
  {
   "cell_type": "code",
   "execution_count": 21,
   "id": "e627b189",
   "metadata": {},
   "outputs": [],
   "source": [
    "house_data.Bathroom.fillna(house_data[\"Bathroom\"].median(),inplace = True)"
   ]
  },
  {
   "cell_type": "code",
   "execution_count": 24,
   "id": "bcadc439",
   "metadata": {},
   "outputs": [],
   "source": [
    "house_data.Latitude.fillna(house_data[\"Latitude\"].median(),inplace = True)"
   ]
  },
  {
   "cell_type": "code",
   "execution_count": 26,
   "id": "c72e7775",
   "metadata": {},
   "outputs": [],
   "source": [
    "house_data.Longtitude.fillna(house_data[\"Longtitude\"].median(),inplace = True)"
   ]
  },
  {
   "cell_type": "code",
   "execution_count": 28,
   "id": "9037e2fc",
   "metadata": {},
   "outputs": [],
   "source": [
    "def fill_landsize(row):\n",
    "    if pd.isnull(row['Landsize']):\n",
    "        average_landsize = house_data[(house_data['Bedroom'] == row['Bedroom']) & (house_data['Bathroom'] == row['Bathroom'])]['Landsize'].mean()\n",
    "        return average_landsize\n",
    "    else:\n",
    "        return row['Landsize']\n",
    "\n",
    "house_data['Landsize'] = house_data.apply(fill_landsize, axis=1)"
   ]
  },
  {
   "cell_type": "code",
   "execution_count": 49,
   "id": "b74ebb02",
   "metadata": {},
   "outputs": [],
   "source": [
    "def fill_Price(row):\n",
    "    if pd.isnull(row[\"Price\"]):\n",
    "        avg_price = house_data[house_data[\"Landsize\"] == row[\"Landsize\"]][\"Price\"].median()\n",
    "        return avg_price\n",
    "    else:\n",
    "        return row[\"Price\"]\n",
    "house_data[\"Price\"] = house_data.apply(fill_Price, axis = 1)"
   ]
  },
  {
   "cell_type": "code",
   "execution_count": 53,
   "id": "37584086",
   "metadata": {},
   "outputs": [],
   "source": [
    "house_data.Price.fillna(house_data[\"Price\"].median(),inplace = True)"
   ]
  },
  {
   "cell_type": "code",
   "execution_count": 54,
   "id": "d62eb092",
   "metadata": {},
   "outputs": [
    {
     "data": {
      "text/plain": [
       "Suburb           0\n",
       "Address          0\n",
       "Rooms            0\n",
       "Type             0\n",
       "Method           0\n",
       "SellerG          0\n",
       "Date             0\n",
       "Distance         0\n",
       "Postcode         0\n",
       "Bedroom          0\n",
       "Bathroom         0\n",
       "Landsize         0\n",
       "CouncilArea      0\n",
       "Latitude         0\n",
       "Longtitude       0\n",
       "Regionname       0\n",
       "Propertycount    0\n",
       "ParkingArea      0\n",
       "Price            0\n",
       "dtype: int64"
      ]
     },
     "execution_count": 54,
     "metadata": {},
     "output_type": "execute_result"
    }
   ],
   "source": [
    "house_data.isnull().sum()"
   ]
  },
  {
   "cell_type": "code",
   "execution_count": 59,
   "id": "c70090ad",
   "metadata": {},
   "outputs": [],
   "source": [
    "X = house_data[['Landsize', 'Bedroom', 'Bathroom']]\n",
    "Y = house_data['Price']"
   ]
  },
  {
   "cell_type": "code",
   "execution_count": 60,
   "id": "ec86950b",
   "metadata": {},
   "outputs": [],
   "source": [
    "X_train, X_test, Y_train, Y_test = train_test_split(X, Y, test_size = 0.3, random_state = 2)"
   ]
  },
  {
   "cell_type": "code",
   "execution_count": 64,
   "id": "f6cf326d",
   "metadata": {},
   "outputs": [
    {
     "data": {
      "text/html": [
       "<style>#sk-container-id-1 {color: black;}#sk-container-id-1 pre{padding: 0;}#sk-container-id-1 div.sk-toggleable {background-color: white;}#sk-container-id-1 label.sk-toggleable__label {cursor: pointer;display: block;width: 100%;margin-bottom: 0;padding: 0.3em;box-sizing: border-box;text-align: center;}#sk-container-id-1 label.sk-toggleable__label-arrow:before {content: \"▸\";float: left;margin-right: 0.25em;color: #696969;}#sk-container-id-1 label.sk-toggleable__label-arrow:hover:before {color: black;}#sk-container-id-1 div.sk-estimator:hover label.sk-toggleable__label-arrow:before {color: black;}#sk-container-id-1 div.sk-toggleable__content {max-height: 0;max-width: 0;overflow: hidden;text-align: left;background-color: #f0f8ff;}#sk-container-id-1 div.sk-toggleable__content pre {margin: 0.2em;color: black;border-radius: 0.25em;background-color: #f0f8ff;}#sk-container-id-1 input.sk-toggleable__control:checked~div.sk-toggleable__content {max-height: 200px;max-width: 100%;overflow: auto;}#sk-container-id-1 input.sk-toggleable__control:checked~label.sk-toggleable__label-arrow:before {content: \"▾\";}#sk-container-id-1 div.sk-estimator input.sk-toggleable__control:checked~label.sk-toggleable__label {background-color: #d4ebff;}#sk-container-id-1 div.sk-label input.sk-toggleable__control:checked~label.sk-toggleable__label {background-color: #d4ebff;}#sk-container-id-1 input.sk-hidden--visually {border: 0;clip: rect(1px 1px 1px 1px);clip: rect(1px, 1px, 1px, 1px);height: 1px;margin: -1px;overflow: hidden;padding: 0;position: absolute;width: 1px;}#sk-container-id-1 div.sk-estimator {font-family: monospace;background-color: #f0f8ff;border: 1px dotted black;border-radius: 0.25em;box-sizing: border-box;margin-bottom: 0.5em;}#sk-container-id-1 div.sk-estimator:hover {background-color: #d4ebff;}#sk-container-id-1 div.sk-parallel-item::after {content: \"\";width: 100%;border-bottom: 1px solid gray;flex-grow: 1;}#sk-container-id-1 div.sk-label:hover label.sk-toggleable__label {background-color: #d4ebff;}#sk-container-id-1 div.sk-serial::before {content: \"\";position: absolute;border-left: 1px solid gray;box-sizing: border-box;top: 0;bottom: 0;left: 50%;z-index: 0;}#sk-container-id-1 div.sk-serial {display: flex;flex-direction: column;align-items: center;background-color: white;padding-right: 0.2em;padding-left: 0.2em;position: relative;}#sk-container-id-1 div.sk-item {position: relative;z-index: 1;}#sk-container-id-1 div.sk-parallel {display: flex;align-items: stretch;justify-content: center;background-color: white;position: relative;}#sk-container-id-1 div.sk-item::before, #sk-container-id-1 div.sk-parallel-item::before {content: \"\";position: absolute;border-left: 1px solid gray;box-sizing: border-box;top: 0;bottom: 0;left: 50%;z-index: -1;}#sk-container-id-1 div.sk-parallel-item {display: flex;flex-direction: column;z-index: 1;position: relative;background-color: white;}#sk-container-id-1 div.sk-parallel-item:first-child::after {align-self: flex-end;width: 50%;}#sk-container-id-1 div.sk-parallel-item:last-child::after {align-self: flex-start;width: 50%;}#sk-container-id-1 div.sk-parallel-item:only-child::after {width: 0;}#sk-container-id-1 div.sk-dashed-wrapped {border: 1px dashed gray;margin: 0 0.4em 0.5em 0.4em;box-sizing: border-box;padding-bottom: 0.4em;background-color: white;}#sk-container-id-1 div.sk-label label {font-family: monospace;font-weight: bold;display: inline-block;line-height: 1.2em;}#sk-container-id-1 div.sk-label-container {text-align: center;}#sk-container-id-1 div.sk-container {/* jupyter's `normalize.less` sets `[hidden] { display: none; }` but bootstrap.min.css set `[hidden] { display: none !important; }` so we also need the `!important` here to be able to override the default hidden behavior on the sphinx rendered scikit-learn.org. See: https://github.com/scikit-learn/scikit-learn/issues/21755 */display: inline-block !important;position: relative;}#sk-container-id-1 div.sk-text-repr-fallback {display: none;}</style><div id=\"sk-container-id-1\" class=\"sk-top-container\"><div class=\"sk-text-repr-fallback\"><pre>LinearRegression()</pre><b>In a Jupyter environment, please rerun this cell to show the HTML representation or trust the notebook. <br />On GitHub, the HTML representation is unable to render, please try loading this page with nbviewer.org.</b></div><div class=\"sk-container\" hidden><div class=\"sk-item\"><div class=\"sk-estimator sk-toggleable\"><input class=\"sk-toggleable__control sk-hidden--visually\" id=\"sk-estimator-id-1\" type=\"checkbox\" checked><label for=\"sk-estimator-id-1\" class=\"sk-toggleable__label sk-toggleable__label-arrow\">LinearRegression</label><div class=\"sk-toggleable__content\"><pre>LinearRegression()</pre></div></div></div></div></div>"
      ],
      "text/plain": [
       "LinearRegression()"
      ]
     },
     "execution_count": 64,
     "metadata": {},
     "output_type": "execute_result"
    }
   ],
   "source": [
    "model = LinearRegression()\n",
    "model.fit(X_train, Y_train)"
   ]
  },
  {
   "cell_type": "code",
   "execution_count": 66,
   "id": "e32c9664",
   "metadata": {},
   "outputs": [
    {
     "data": {
      "text/plain": [
       "array([ 741255.41257438,  932013.11071535,  744347.08933311, ...,\n",
       "       1042299.84896818, 1231259.02361008,  930693.94575219])"
      ]
     },
     "execution_count": 66,
     "metadata": {},
     "output_type": "execute_result"
    }
   ],
   "source": [
    "predictions = model.predict(X_test)\n",
    "predictions"
   ]
  },
  {
   "cell_type": "code",
   "execution_count": 67,
   "id": "cb3c366c",
   "metadata": {},
   "outputs": [
    {
     "name": "stdout",
     "output_type": "stream",
     "text": [
      "Mean Squared Error: 292684759241.9617\n"
     ]
    }
   ],
   "source": [
    "mse = mean_squared_error(Y_test, predictions)\n",
    "print(f'Mean Squared Error: {mse}')"
   ]
  },
  {
   "cell_type": "code",
   "execution_count": 68,
   "id": "8895f728",
   "metadata": {},
   "outputs": [
    {
     "name": "stdout",
     "output_type": "stream",
     "text": [
      "R-squared: 0.14388783429752727\n"
     ]
    }
   ],
   "source": [
    "r2 = r2_score(Y_test, predictions)\n",
    "print(f'R-squared: {r2}')"
   ]
  },
  {
   "cell_type": "code",
   "execution_count": null,
   "id": "8bb2cbbf",
   "metadata": {},
   "outputs": [],
   "source": []
  }
 ],
 "metadata": {
  "kernelspec": {
   "display_name": "Python 3 (ipykernel)",
   "language": "python",
   "name": "python3"
  },
  "language_info": {
   "codemirror_mode": {
    "name": "ipython",
    "version": 3
   },
   "file_extension": ".py",
   "mimetype": "text/x-python",
   "name": "python",
   "nbconvert_exporter": "python",
   "pygments_lexer": "ipython3",
   "version": "3.11.4"
  }
 },
 "nbformat": 4,
 "nbformat_minor": 5
}
